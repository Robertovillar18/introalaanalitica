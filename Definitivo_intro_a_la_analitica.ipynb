{
  "cells": [
    {
      "cell_type": "markdown",
      "metadata": {
        "id": "view-in-github",
        "colab_type": "text"
      },
      "source": [
        "<a href=\"https://colab.research.google.com/github/gmartinezsilva/introalaanalitica/blob/main/Definitivo_intro_a_la_analitica.ipynb\" target=\"_parent\"><img src=\"https://colab.research.google.com/assets/colab-badge.svg\" alt=\"Open In Colab\"/></a>"
      ]
    },
    {
      "cell_type": "markdown",
      "metadata": {
        "id": "lVBeno4HynTm"
      },
      "source": [
        "EDA"
      ]
    },
    {
      "cell_type": "code",
      "execution_count": null,
      "metadata": {
        "colab": {
          "base_uri": "https://localhost:8080/",
          "height": 500
        },
        "id": "GH7IIdOQV_St",
        "outputId": "aec57931-7909-4f62-d88d-af0badc98603"
      },
      "outputs": [
        {
          "output_type": "execute_result",
          "data": {
            "text/plain": [
              "       TransactionID CustomerID CustomerDOB CustGender CustLocation  \\\n",
              "0                 T1   C5841053     10/1/94          F   JAMSHEDPUR   \n",
              "1                 T2   C2142763      4/4/57          M      JHAJJAR   \n",
              "2                 T3   C4417068    26/11/96          F       MUMBAI   \n",
              "3                 T4   C5342380     14/9/73          F       MUMBAI   \n",
              "4                 T5   C9031234     24/3/88          F  NAVI MUMBAI   \n",
              "...              ...        ...         ...        ...          ...   \n",
              "279617       T279618   C2616684      7/3/86          M    NEW DELHI   \n",
              "279618       T279619   C8521482     8/11/88          M       MUMBAI   \n",
              "279619       T279620   C7438425    24/11/93          M    NEW DELHI   \n",
              "279620       T279621   C1121939     13/9/89          M        DELHI   \n",
              "279621       T279622   C9010911      9/1/94          M        NOIDA   \n",
              "\n",
              "        CustAccountBalance TransactionDate  TransactionTime  \\\n",
              "0                 17819.05          2/8/16         143207.0   \n",
              "1                  2270.69          2/8/16         141858.0   \n",
              "2                 17874.44          2/8/16         142712.0   \n",
              "3                866503.21          2/8/16         142714.0   \n",
              "4                  6714.43          2/8/16         181156.0   \n",
              "...                    ...             ...              ...   \n",
              "279617            26154.75         12/8/16         230637.0   \n",
              "279618             7523.87         12/8/16         230653.0   \n",
              "279619           235804.98         12/8/16         224044.0   \n",
              "279620             4919.65         12/8/16         224934.0   \n",
              "279621               67.00             NaN              NaN   \n",
              "\n",
              "        TransactionAmount (INR)  \n",
              "0                          25.0  \n",
              "1                       27999.0  \n",
              "2                         459.0  \n",
              "3                        2060.0  \n",
              "4                        1762.5  \n",
              "...                         ...  \n",
              "279617                   1308.0  \n",
              "279618                    212.0  \n",
              "279619                    569.0  \n",
              "279620                     32.0  \n",
              "279621                      NaN  \n",
              "\n",
              "[279622 rows x 9 columns]"
            ],
            "text/html": [
              "\n",
              "  <div id=\"df-525588f7-0c13-457c-9e7d-75c1649d1de6\">\n",
              "    <div class=\"colab-df-container\">\n",
              "      <div>\n",
              "<style scoped>\n",
              "    .dataframe tbody tr th:only-of-type {\n",
              "        vertical-align: middle;\n",
              "    }\n",
              "\n",
              "    .dataframe tbody tr th {\n",
              "        vertical-align: top;\n",
              "    }\n",
              "\n",
              "    .dataframe thead th {\n",
              "        text-align: right;\n",
              "    }\n",
              "</style>\n",
              "<table border=\"1\" class=\"dataframe\">\n",
              "  <thead>\n",
              "    <tr style=\"text-align: right;\">\n",
              "      <th></th>\n",
              "      <th>TransactionID</th>\n",
              "      <th>CustomerID</th>\n",
              "      <th>CustomerDOB</th>\n",
              "      <th>CustGender</th>\n",
              "      <th>CustLocation</th>\n",
              "      <th>CustAccountBalance</th>\n",
              "      <th>TransactionDate</th>\n",
              "      <th>TransactionTime</th>\n",
              "      <th>TransactionAmount (INR)</th>\n",
              "    </tr>\n",
              "  </thead>\n",
              "  <tbody>\n",
              "    <tr>\n",
              "      <th>0</th>\n",
              "      <td>T1</td>\n",
              "      <td>C5841053</td>\n",
              "      <td>10/1/94</td>\n",
              "      <td>F</td>\n",
              "      <td>JAMSHEDPUR</td>\n",
              "      <td>17819.05</td>\n",
              "      <td>2/8/16</td>\n",
              "      <td>143207.0</td>\n",
              "      <td>25.0</td>\n",
              "    </tr>\n",
              "    <tr>\n",
              "      <th>1</th>\n",
              "      <td>T2</td>\n",
              "      <td>C2142763</td>\n",
              "      <td>4/4/57</td>\n",
              "      <td>M</td>\n",
              "      <td>JHAJJAR</td>\n",
              "      <td>2270.69</td>\n",
              "      <td>2/8/16</td>\n",
              "      <td>141858.0</td>\n",
              "      <td>27999.0</td>\n",
              "    </tr>\n",
              "    <tr>\n",
              "      <th>2</th>\n",
              "      <td>T3</td>\n",
              "      <td>C4417068</td>\n",
              "      <td>26/11/96</td>\n",
              "      <td>F</td>\n",
              "      <td>MUMBAI</td>\n",
              "      <td>17874.44</td>\n",
              "      <td>2/8/16</td>\n",
              "      <td>142712.0</td>\n",
              "      <td>459.0</td>\n",
              "    </tr>\n",
              "    <tr>\n",
              "      <th>3</th>\n",
              "      <td>T4</td>\n",
              "      <td>C5342380</td>\n",
              "      <td>14/9/73</td>\n",
              "      <td>F</td>\n",
              "      <td>MUMBAI</td>\n",
              "      <td>866503.21</td>\n",
              "      <td>2/8/16</td>\n",
              "      <td>142714.0</td>\n",
              "      <td>2060.0</td>\n",
              "    </tr>\n",
              "    <tr>\n",
              "      <th>4</th>\n",
              "      <td>T5</td>\n",
              "      <td>C9031234</td>\n",
              "      <td>24/3/88</td>\n",
              "      <td>F</td>\n",
              "      <td>NAVI MUMBAI</td>\n",
              "      <td>6714.43</td>\n",
              "      <td>2/8/16</td>\n",
              "      <td>181156.0</td>\n",
              "      <td>1762.5</td>\n",
              "    </tr>\n",
              "    <tr>\n",
              "      <th>...</th>\n",
              "      <td>...</td>\n",
              "      <td>...</td>\n",
              "      <td>...</td>\n",
              "      <td>...</td>\n",
              "      <td>...</td>\n",
              "      <td>...</td>\n",
              "      <td>...</td>\n",
              "      <td>...</td>\n",
              "      <td>...</td>\n",
              "    </tr>\n",
              "    <tr>\n",
              "      <th>279617</th>\n",
              "      <td>T279618</td>\n",
              "      <td>C2616684</td>\n",
              "      <td>7/3/86</td>\n",
              "      <td>M</td>\n",
              "      <td>NEW DELHI</td>\n",
              "      <td>26154.75</td>\n",
              "      <td>12/8/16</td>\n",
              "      <td>230637.0</td>\n",
              "      <td>1308.0</td>\n",
              "    </tr>\n",
              "    <tr>\n",
              "      <th>279618</th>\n",
              "      <td>T279619</td>\n",
              "      <td>C8521482</td>\n",
              "      <td>8/11/88</td>\n",
              "      <td>M</td>\n",
              "      <td>MUMBAI</td>\n",
              "      <td>7523.87</td>\n",
              "      <td>12/8/16</td>\n",
              "      <td>230653.0</td>\n",
              "      <td>212.0</td>\n",
              "    </tr>\n",
              "    <tr>\n",
              "      <th>279619</th>\n",
              "      <td>T279620</td>\n",
              "      <td>C7438425</td>\n",
              "      <td>24/11/93</td>\n",
              "      <td>M</td>\n",
              "      <td>NEW DELHI</td>\n",
              "      <td>235804.98</td>\n",
              "      <td>12/8/16</td>\n",
              "      <td>224044.0</td>\n",
              "      <td>569.0</td>\n",
              "    </tr>\n",
              "    <tr>\n",
              "      <th>279620</th>\n",
              "      <td>T279621</td>\n",
              "      <td>C1121939</td>\n",
              "      <td>13/9/89</td>\n",
              "      <td>M</td>\n",
              "      <td>DELHI</td>\n",
              "      <td>4919.65</td>\n",
              "      <td>12/8/16</td>\n",
              "      <td>224934.0</td>\n",
              "      <td>32.0</td>\n",
              "    </tr>\n",
              "    <tr>\n",
              "      <th>279621</th>\n",
              "      <td>T279622</td>\n",
              "      <td>C9010911</td>\n",
              "      <td>9/1/94</td>\n",
              "      <td>M</td>\n",
              "      <td>NOIDA</td>\n",
              "      <td>67.00</td>\n",
              "      <td>NaN</td>\n",
              "      <td>NaN</td>\n",
              "      <td>NaN</td>\n",
              "    </tr>\n",
              "  </tbody>\n",
              "</table>\n",
              "<p>279622 rows × 9 columns</p>\n",
              "</div>\n",
              "      <button class=\"colab-df-convert\" onclick=\"convertToInteractive('df-525588f7-0c13-457c-9e7d-75c1649d1de6')\"\n",
              "              title=\"Convert this dataframe to an interactive table.\"\n",
              "              style=\"display:none;\">\n",
              "        \n",
              "  <svg xmlns=\"http://www.w3.org/2000/svg\" height=\"24px\"viewBox=\"0 0 24 24\"\n",
              "       width=\"24px\">\n",
              "    <path d=\"M0 0h24v24H0V0z\" fill=\"none\"/>\n",
              "    <path d=\"M18.56 5.44l.94 2.06.94-2.06 2.06-.94-2.06-.94-.94-2.06-.94 2.06-2.06.94zm-11 1L8.5 8.5l.94-2.06 2.06-.94-2.06-.94L8.5 2.5l-.94 2.06-2.06.94zm10 10l.94 2.06.94-2.06 2.06-.94-2.06-.94-.94-2.06-.94 2.06-2.06.94z\"/><path d=\"M17.41 7.96l-1.37-1.37c-.4-.4-.92-.59-1.43-.59-.52 0-1.04.2-1.43.59L10.3 9.45l-7.72 7.72c-.78.78-.78 2.05 0 2.83L4 21.41c.39.39.9.59 1.41.59.51 0 1.02-.2 1.41-.59l7.78-7.78 2.81-2.81c.8-.78.8-2.07 0-2.86zM5.41 20L4 18.59l7.72-7.72 1.47 1.35L5.41 20z\"/>\n",
              "  </svg>\n",
              "      </button>\n",
              "      \n",
              "  <style>\n",
              "    .colab-df-container {\n",
              "      display:flex;\n",
              "      flex-wrap:wrap;\n",
              "      gap: 12px;\n",
              "    }\n",
              "\n",
              "    .colab-df-convert {\n",
              "      background-color: #E8F0FE;\n",
              "      border: none;\n",
              "      border-radius: 50%;\n",
              "      cursor: pointer;\n",
              "      display: none;\n",
              "      fill: #1967D2;\n",
              "      height: 32px;\n",
              "      padding: 0 0 0 0;\n",
              "      width: 32px;\n",
              "    }\n",
              "\n",
              "    .colab-df-convert:hover {\n",
              "      background-color: #E2EBFA;\n",
              "      box-shadow: 0px 1px 2px rgba(60, 64, 67, 0.3), 0px 1px 3px 1px rgba(60, 64, 67, 0.15);\n",
              "      fill: #174EA6;\n",
              "    }\n",
              "\n",
              "    [theme=dark] .colab-df-convert {\n",
              "      background-color: #3B4455;\n",
              "      fill: #D2E3FC;\n",
              "    }\n",
              "\n",
              "    [theme=dark] .colab-df-convert:hover {\n",
              "      background-color: #434B5C;\n",
              "      box-shadow: 0px 1px 3px 1px rgba(0, 0, 0, 0.15);\n",
              "      filter: drop-shadow(0px 1px 2px rgba(0, 0, 0, 0.3));\n",
              "      fill: #FFFFFF;\n",
              "    }\n",
              "  </style>\n",
              "\n",
              "      <script>\n",
              "        const buttonEl =\n",
              "          document.querySelector('#df-525588f7-0c13-457c-9e7d-75c1649d1de6 button.colab-df-convert');\n",
              "        buttonEl.style.display =\n",
              "          google.colab.kernel.accessAllowed ? 'block' : 'none';\n",
              "\n",
              "        async function convertToInteractive(key) {\n",
              "          const element = document.querySelector('#df-525588f7-0c13-457c-9e7d-75c1649d1de6');\n",
              "          const dataTable =\n",
              "            await google.colab.kernel.invokeFunction('convertToInteractive',\n",
              "                                                     [key], {});\n",
              "          if (!dataTable) return;\n",
              "\n",
              "          const docLinkHtml = 'Like what you see? Visit the ' +\n",
              "            '<a target=\"_blank\" href=https://colab.research.google.com/notebooks/data_table.ipynb>data table notebook</a>'\n",
              "            + ' to learn more about interactive tables.';\n",
              "          element.innerHTML = '';\n",
              "          dataTable['output_type'] = 'display_data';\n",
              "          await google.colab.output.renderOutput(dataTable, element);\n",
              "          const docLink = document.createElement('div');\n",
              "          docLink.innerHTML = docLinkHtml;\n",
              "          element.appendChild(docLink);\n",
              "        }\n",
              "      </script>\n",
              "    </div>\n",
              "  </div>\n",
              "  "
            ]
          },
          "metadata": {},
          "execution_count": 1
        }
      ],
      "source": [
        "import pandas as pd\n",
        "Dataframe = pd.read_csv('/content/bank_transactions-2.csv') \n",
        "Dataframe "
      ]
    },
    {
      "cell_type": "markdown",
      "metadata": {
        "id": "VLZ54TajyqTX"
      },
      "source": [
        "1. Medidas de tendencia central\n"
      ]
    },
    {
      "cell_type": "code",
      "execution_count": null,
      "metadata": {
        "colab": {
          "base_uri": "https://localhost:8080/"
        },
        "id": "Lzq7Oqjow9Lk",
        "outputId": "d9945e8b-1a87-4932-efda-c6ca04ee0303"
      },
      "outputs": [
        {
          "output_type": "execute_result",
          "data": {
            "text/plain": [
              "array(['TransactionID', 'CustomerID', 'CustomerDOB', 'CustGender',\n",
              "       'CustLocation', 'CustAccountBalance', 'TransactionDate',\n",
              "       'TransactionTime', 'TransactionAmount (INR)'], dtype=object)"
            ]
          },
          "metadata": {},
          "execution_count": 2
        }
      ],
      "source": [
        "Dataframe.columns.values"
      ]
    },
    {
      "cell_type": "code",
      "execution_count": null,
      "metadata": {
        "colab": {
          "base_uri": "https://localhost:8080/",
          "height": 297
        },
        "id": "m4H_H0ie8s9o",
        "outputId": "14d399a3-668d-49ab-e4dc-4461189a41af"
      },
      "outputs": [
        {
          "output_type": "execute_result",
          "data": {
            "text/plain": [
              "       CustAccountBalance  TransactionTime  TransactionAmount (INR)\n",
              "count        2.788670e+05    279621.000000            279621.000000\n",
              "mean         1.091316e+05    156728.252510              1596.661670\n",
              "std          6.996744e+05     51036.575063              6222.379832\n",
              "min          0.000000e+00         1.000000                 0.000000\n",
              "25%          4.546015e+03    124417.000000               169.000000\n",
              "50%          1.608596e+04    163248.000000               470.000000\n",
              "75%          5.491520e+04    195910.000000              1200.000000\n",
              "max          1.150355e+08    235959.000000            720001.160000"
            ],
            "text/html": [
              "\n",
              "  <div id=\"df-2676c7e4-1e4b-47f1-bffd-3aee2531d6b0\">\n",
              "    <div class=\"colab-df-container\">\n",
              "      <div>\n",
              "<style scoped>\n",
              "    .dataframe tbody tr th:only-of-type {\n",
              "        vertical-align: middle;\n",
              "    }\n",
              "\n",
              "    .dataframe tbody tr th {\n",
              "        vertical-align: top;\n",
              "    }\n",
              "\n",
              "    .dataframe thead th {\n",
              "        text-align: right;\n",
              "    }\n",
              "</style>\n",
              "<table border=\"1\" class=\"dataframe\">\n",
              "  <thead>\n",
              "    <tr style=\"text-align: right;\">\n",
              "      <th></th>\n",
              "      <th>CustAccountBalance</th>\n",
              "      <th>TransactionTime</th>\n",
              "      <th>TransactionAmount (INR)</th>\n",
              "    </tr>\n",
              "  </thead>\n",
              "  <tbody>\n",
              "    <tr>\n",
              "      <th>count</th>\n",
              "      <td>2.788670e+05</td>\n",
              "      <td>279621.000000</td>\n",
              "      <td>279621.000000</td>\n",
              "    </tr>\n",
              "    <tr>\n",
              "      <th>mean</th>\n",
              "      <td>1.091316e+05</td>\n",
              "      <td>156728.252510</td>\n",
              "      <td>1596.661670</td>\n",
              "    </tr>\n",
              "    <tr>\n",
              "      <th>std</th>\n",
              "      <td>6.996744e+05</td>\n",
              "      <td>51036.575063</td>\n",
              "      <td>6222.379832</td>\n",
              "    </tr>\n",
              "    <tr>\n",
              "      <th>min</th>\n",
              "      <td>0.000000e+00</td>\n",
              "      <td>1.000000</td>\n",
              "      <td>0.000000</td>\n",
              "    </tr>\n",
              "    <tr>\n",
              "      <th>25%</th>\n",
              "      <td>4.546015e+03</td>\n",
              "      <td>124417.000000</td>\n",
              "      <td>169.000000</td>\n",
              "    </tr>\n",
              "    <tr>\n",
              "      <th>50%</th>\n",
              "      <td>1.608596e+04</td>\n",
              "      <td>163248.000000</td>\n",
              "      <td>470.000000</td>\n",
              "    </tr>\n",
              "    <tr>\n",
              "      <th>75%</th>\n",
              "      <td>5.491520e+04</td>\n",
              "      <td>195910.000000</td>\n",
              "      <td>1200.000000</td>\n",
              "    </tr>\n",
              "    <tr>\n",
              "      <th>max</th>\n",
              "      <td>1.150355e+08</td>\n",
              "      <td>235959.000000</td>\n",
              "      <td>720001.160000</td>\n",
              "    </tr>\n",
              "  </tbody>\n",
              "</table>\n",
              "</div>\n",
              "      <button class=\"colab-df-convert\" onclick=\"convertToInteractive('df-2676c7e4-1e4b-47f1-bffd-3aee2531d6b0')\"\n",
              "              title=\"Convert this dataframe to an interactive table.\"\n",
              "              style=\"display:none;\">\n",
              "        \n",
              "  <svg xmlns=\"http://www.w3.org/2000/svg\" height=\"24px\"viewBox=\"0 0 24 24\"\n",
              "       width=\"24px\">\n",
              "    <path d=\"M0 0h24v24H0V0z\" fill=\"none\"/>\n",
              "    <path d=\"M18.56 5.44l.94 2.06.94-2.06 2.06-.94-2.06-.94-.94-2.06-.94 2.06-2.06.94zm-11 1L8.5 8.5l.94-2.06 2.06-.94-2.06-.94L8.5 2.5l-.94 2.06-2.06.94zm10 10l.94 2.06.94-2.06 2.06-.94-2.06-.94-.94-2.06-.94 2.06-2.06.94z\"/><path d=\"M17.41 7.96l-1.37-1.37c-.4-.4-.92-.59-1.43-.59-.52 0-1.04.2-1.43.59L10.3 9.45l-7.72 7.72c-.78.78-.78 2.05 0 2.83L4 21.41c.39.39.9.59 1.41.59.51 0 1.02-.2 1.41-.59l7.78-7.78 2.81-2.81c.8-.78.8-2.07 0-2.86zM5.41 20L4 18.59l7.72-7.72 1.47 1.35L5.41 20z\"/>\n",
              "  </svg>\n",
              "      </button>\n",
              "      \n",
              "  <style>\n",
              "    .colab-df-container {\n",
              "      display:flex;\n",
              "      flex-wrap:wrap;\n",
              "      gap: 12px;\n",
              "    }\n",
              "\n",
              "    .colab-df-convert {\n",
              "      background-color: #E8F0FE;\n",
              "      border: none;\n",
              "      border-radius: 50%;\n",
              "      cursor: pointer;\n",
              "      display: none;\n",
              "      fill: #1967D2;\n",
              "      height: 32px;\n",
              "      padding: 0 0 0 0;\n",
              "      width: 32px;\n",
              "    }\n",
              "\n",
              "    .colab-df-convert:hover {\n",
              "      background-color: #E2EBFA;\n",
              "      box-shadow: 0px 1px 2px rgba(60, 64, 67, 0.3), 0px 1px 3px 1px rgba(60, 64, 67, 0.15);\n",
              "      fill: #174EA6;\n",
              "    }\n",
              "\n",
              "    [theme=dark] .colab-df-convert {\n",
              "      background-color: #3B4455;\n",
              "      fill: #D2E3FC;\n",
              "    }\n",
              "\n",
              "    [theme=dark] .colab-df-convert:hover {\n",
              "      background-color: #434B5C;\n",
              "      box-shadow: 0px 1px 3px 1px rgba(0, 0, 0, 0.15);\n",
              "      filter: drop-shadow(0px 1px 2px rgba(0, 0, 0, 0.3));\n",
              "      fill: #FFFFFF;\n",
              "    }\n",
              "  </style>\n",
              "\n",
              "      <script>\n",
              "        const buttonEl =\n",
              "          document.querySelector('#df-2676c7e4-1e4b-47f1-bffd-3aee2531d6b0 button.colab-df-convert');\n",
              "        buttonEl.style.display =\n",
              "          google.colab.kernel.accessAllowed ? 'block' : 'none';\n",
              "\n",
              "        async function convertToInteractive(key) {\n",
              "          const element = document.querySelector('#df-2676c7e4-1e4b-47f1-bffd-3aee2531d6b0');\n",
              "          const dataTable =\n",
              "            await google.colab.kernel.invokeFunction('convertToInteractive',\n",
              "                                                     [key], {});\n",
              "          if (!dataTable) return;\n",
              "\n",
              "          const docLinkHtml = 'Like what you see? Visit the ' +\n",
              "            '<a target=\"_blank\" href=https://colab.research.google.com/notebooks/data_table.ipynb>data table notebook</a>'\n",
              "            + ' to learn more about interactive tables.';\n",
              "          element.innerHTML = '';\n",
              "          dataTable['output_type'] = 'display_data';\n",
              "          await google.colab.output.renderOutput(dataTable, element);\n",
              "          const docLink = document.createElement('div');\n",
              "          docLink.innerHTML = docLinkHtml;\n",
              "          element.appendChild(docLink);\n",
              "        }\n",
              "      </script>\n",
              "    </div>\n",
              "  </div>\n",
              "  "
            ]
          },
          "metadata": {},
          "execution_count": 3
        }
      ],
      "source": [
        "Dataframe.describe()"
      ]
    },
    {
      "cell_type": "code",
      "execution_count": null,
      "metadata": {
        "colab": {
          "base_uri": "https://localhost:8080/"
        },
        "id": "xkFMshS9-BxW",
        "outputId": "844fed09-457a-485a-e413-c7af25fea106"
      },
      "outputs": [
        {
          "output_type": "execute_result",
          "data": {
            "text/plain": [
              "count    279621.000000\n",
              "mean       1596.661670\n",
              "std        6222.379832\n",
              "min           0.000000\n",
              "25%         169.000000\n",
              "50%         470.000000\n",
              "75%        1200.000000\n",
              "max      720001.160000\n",
              "Name: TransactionAmount (INR), dtype: float64"
            ]
          },
          "metadata": {},
          "execution_count": 4
        }
      ],
      "source": [
        "Dataframe[\"TransactionAmount (INR)\"].describe()"
      ]
    },
    {
      "cell_type": "code",
      "execution_count": null,
      "metadata": {
        "colab": {
          "base_uri": "https://localhost:8080/"
        },
        "id": "v5rdUw9909UA",
        "outputId": "5d7cd1a9-9338-4fbc-ce0c-d90e6be80d7a"
      },
      "outputs": [
        {
          "output_type": "execute_result",
          "data": {
            "text/plain": [
              "count     279622\n",
              "unique    279622\n",
              "top           T1\n",
              "freq           1\n",
              "Name: TransactionID, dtype: object"
            ]
          },
          "metadata": {},
          "execution_count": 5
        }
      ],
      "source": [
        "Dataframe[\"TransactionID\"].describe()"
      ]
    },
    {
      "cell_type": "code",
      "execution_count": null,
      "metadata": {
        "colab": {
          "base_uri": "https://localhost:8080/"
        },
        "id": "v256KJm3-4CL",
        "outputId": "c6b48c8f-f831-4714-9076-4554f9acaff6"
      },
      "outputs": [
        {
          "output_type": "execute_result",
          "data": {
            "text/plain": [
              "0         False\n",
              "1         False\n",
              "2         False\n",
              "3         False\n",
              "4         False\n",
              "          ...  \n",
              "279617    False\n",
              "279618    False\n",
              "279619    False\n",
              "279620    False\n",
              "279621     True\n",
              "Name: TransactionAmount (INR), Length: 279622, dtype: bool"
            ]
          },
          "metadata": {},
          "execution_count": 6
        }
      ],
      "source": [
        "pd.isnull(Dataframe['TransactionAmount (INR)'])"
      ]
    },
    {
      "cell_type": "code",
      "execution_count": null,
      "metadata": {
        "colab": {
          "base_uri": "https://localhost:8080/"
        },
        "id": "nswt7Z-F1SFx",
        "outputId": "40bca3a7-d332-4b08-8578-fe7acdf47c7a"
      },
      "outputs": [
        {
          "output_type": "execute_result",
          "data": {
            "text/plain": [
              "0         False\n",
              "1         False\n",
              "2         False\n",
              "3         False\n",
              "4         False\n",
              "          ...  \n",
              "279617    False\n",
              "279618    False\n",
              "279619    False\n",
              "279620    False\n",
              "279621    False\n",
              "Name: TransactionID, Length: 279622, dtype: bool"
            ]
          },
          "metadata": {},
          "execution_count": 7
        }
      ],
      "source": [
        "pd.isnull(Dataframe['TransactionID'])"
      ]
    },
    {
      "cell_type": "code",
      "execution_count": null,
      "metadata": {
        "colab": {
          "base_uri": "https://localhost:8080/"
        },
        "id": "2y3_pP6x_-OM",
        "outputId": "e6b99571-d434-4d2b-a38a-2bc909edb537"
      },
      "outputs": [
        {
          "output_type": "execute_result",
          "data": {
            "text/plain": [
              "TransactionID               object\n",
              "CustomerID                  object\n",
              "CustomerDOB                 object\n",
              "CustGender                  object\n",
              "CustLocation                object\n",
              "CustAccountBalance         float64\n",
              "TransactionDate             object\n",
              "TransactionTime            float64\n",
              "TransactionAmount (INR)    float64\n",
              "dtype: object"
            ]
          },
          "metadata": {},
          "execution_count": 8
        }
      ],
      "source": [
        "Dataframe.dtypes\n"
      ]
    },
    {
      "cell_type": "code",
      "execution_count": null,
      "metadata": {
        "colab": {
          "base_uri": "https://localhost:8080/"
        },
        "id": "5K3nmQvV0SSc",
        "outputId": "6aed1de5-c461-4f4f-e1a3-1af2c27520fe"
      },
      "outputs": [
        {
          "output_type": "execute_result",
          "data": {
            "text/plain": [
              "279622"
            ]
          },
          "metadata": {},
          "execution_count": 9
        }
      ],
      "source": [
        "pd.notnull(Dataframe[\"TransactionID\"]).values.ravel().sum()"
      ]
    },
    {
      "cell_type": "code",
      "execution_count": null,
      "metadata": {
        "id": "XYnB8drieMfs"
      },
      "outputs": [],
      "source": [
        "import matplotlib.pyplot as plt\n"
      ]
    },
    {
      "cell_type": "code",
      "execution_count": null,
      "metadata": {
        "id": "qYZezP7vhw1G"
      },
      "outputs": [],
      "source": [
        "from sklearn.linear_model import LinearRegression\n",
        "from sklearn.metrics import mean_squared_error\n",
        "from sklearn.metrics import mean_absolute_error\n",
        "from sklearn.metrics import median_absolute_error\n",
        "import matplotlib.pyplot as plt"
      ]
    },
    {
      "cell_type": "code",
      "execution_count": null,
      "metadata": {
        "colab": {
          "base_uri": "https://localhost:8080/"
        },
        "id": "optFmUpdh0DI",
        "outputId": "c4893101-b77f-4d79-cd66-0fa0dc0999f3"
      },
      "outputs": [
        {
          "output_type": "execute_result",
          "data": {
            "text/plain": [
              "sklearn.linear_model._base.LinearRegression"
            ]
          },
          "metadata": {},
          "execution_count": 12
        }
      ],
      "source": [
        "model = LinearRegression()\n",
        "LinearRegression"
      ]
    },
    {
      "cell_type": "markdown",
      "metadata": {
        "id": "WJIzx0SV6gXj"
      },
      "source": [
        "## Recomendaciones del profesor"
      ]
    },
    {
      "cell_type": "code",
      "execution_count": null,
      "metadata": {
        "id": "WVI0gIox6gXk",
        "outputId": "427f75ea-eb07-4406-cab9-d2309562e3c6",
        "colab": {
          "base_uri": "https://localhost:8080/",
          "height": 271
        }
      },
      "outputs": [
        {
          "output_type": "execute_result",
          "data": {
            "text/plain": [
              "       TransactionID CustomerID CustomerDOB CustGender       CustLocation  \\\n",
              "19460         T19461   C7331455     18/7/67          M              NOIDA   \n",
              "72954         T72955   C7331455     19/3/95          F  DIMAPUR, NAGALAND   \n",
              "88641         T88642   C7331455      8/4/89          F             MUMBAI   \n",
              "241027       T241028   C7331455    29/10/91          M          AHMEDABAD   \n",
              "\n",
              "        CustAccountBalance TransactionDate  TransactionTime  \\\n",
              "19460             32101.78         26/9/16         190740.0   \n",
              "72954            273989.77          2/8/16         163826.0   \n",
              "88641              9016.56          1/8/16         105824.0   \n",
              "241027            35146.93          7/8/16         143458.0   \n",
              "\n",
              "        TransactionAmount (INR)  \n",
              "19460                    1690.7  \n",
              "72954                     140.0  \n",
              "88641                      60.0  \n",
              "241027                    500.0  "
            ],
            "text/html": [
              "\n",
              "  <div id=\"df-cd2b34f6-973c-4d8b-9cae-812d5393dcc4\">\n",
              "    <div class=\"colab-df-container\">\n",
              "      <div>\n",
              "<style scoped>\n",
              "    .dataframe tbody tr th:only-of-type {\n",
              "        vertical-align: middle;\n",
              "    }\n",
              "\n",
              "    .dataframe tbody tr th {\n",
              "        vertical-align: top;\n",
              "    }\n",
              "\n",
              "    .dataframe thead th {\n",
              "        text-align: right;\n",
              "    }\n",
              "</style>\n",
              "<table border=\"1\" class=\"dataframe\">\n",
              "  <thead>\n",
              "    <tr style=\"text-align: right;\">\n",
              "      <th></th>\n",
              "      <th>TransactionID</th>\n",
              "      <th>CustomerID</th>\n",
              "      <th>CustomerDOB</th>\n",
              "      <th>CustGender</th>\n",
              "      <th>CustLocation</th>\n",
              "      <th>CustAccountBalance</th>\n",
              "      <th>TransactionDate</th>\n",
              "      <th>TransactionTime</th>\n",
              "      <th>TransactionAmount (INR)</th>\n",
              "    </tr>\n",
              "  </thead>\n",
              "  <tbody>\n",
              "    <tr>\n",
              "      <th>19460</th>\n",
              "      <td>T19461</td>\n",
              "      <td>C7331455</td>\n",
              "      <td>18/7/67</td>\n",
              "      <td>M</td>\n",
              "      <td>NOIDA</td>\n",
              "      <td>32101.78</td>\n",
              "      <td>26/9/16</td>\n",
              "      <td>190740.0</td>\n",
              "      <td>1690.7</td>\n",
              "    </tr>\n",
              "    <tr>\n",
              "      <th>72954</th>\n",
              "      <td>T72955</td>\n",
              "      <td>C7331455</td>\n",
              "      <td>19/3/95</td>\n",
              "      <td>F</td>\n",
              "      <td>DIMAPUR, NAGALAND</td>\n",
              "      <td>273989.77</td>\n",
              "      <td>2/8/16</td>\n",
              "      <td>163826.0</td>\n",
              "      <td>140.0</td>\n",
              "    </tr>\n",
              "    <tr>\n",
              "      <th>88641</th>\n",
              "      <td>T88642</td>\n",
              "      <td>C7331455</td>\n",
              "      <td>8/4/89</td>\n",
              "      <td>F</td>\n",
              "      <td>MUMBAI</td>\n",
              "      <td>9016.56</td>\n",
              "      <td>1/8/16</td>\n",
              "      <td>105824.0</td>\n",
              "      <td>60.0</td>\n",
              "    </tr>\n",
              "    <tr>\n",
              "      <th>241027</th>\n",
              "      <td>T241028</td>\n",
              "      <td>C7331455</td>\n",
              "      <td>29/10/91</td>\n",
              "      <td>M</td>\n",
              "      <td>AHMEDABAD</td>\n",
              "      <td>35146.93</td>\n",
              "      <td>7/8/16</td>\n",
              "      <td>143458.0</td>\n",
              "      <td>500.0</td>\n",
              "    </tr>\n",
              "  </tbody>\n",
              "</table>\n",
              "</div>\n",
              "      <button class=\"colab-df-convert\" onclick=\"convertToInteractive('df-cd2b34f6-973c-4d8b-9cae-812d5393dcc4')\"\n",
              "              title=\"Convert this dataframe to an interactive table.\"\n",
              "              style=\"display:none;\">\n",
              "        \n",
              "  <svg xmlns=\"http://www.w3.org/2000/svg\" height=\"24px\"viewBox=\"0 0 24 24\"\n",
              "       width=\"24px\">\n",
              "    <path d=\"M0 0h24v24H0V0z\" fill=\"none\"/>\n",
              "    <path d=\"M18.56 5.44l.94 2.06.94-2.06 2.06-.94-2.06-.94-.94-2.06-.94 2.06-2.06.94zm-11 1L8.5 8.5l.94-2.06 2.06-.94-2.06-.94L8.5 2.5l-.94 2.06-2.06.94zm10 10l.94 2.06.94-2.06 2.06-.94-2.06-.94-.94-2.06-.94 2.06-2.06.94z\"/><path d=\"M17.41 7.96l-1.37-1.37c-.4-.4-.92-.59-1.43-.59-.52 0-1.04.2-1.43.59L10.3 9.45l-7.72 7.72c-.78.78-.78 2.05 0 2.83L4 21.41c.39.39.9.59 1.41.59.51 0 1.02-.2 1.41-.59l7.78-7.78 2.81-2.81c.8-.78.8-2.07 0-2.86zM5.41 20L4 18.59l7.72-7.72 1.47 1.35L5.41 20z\"/>\n",
              "  </svg>\n",
              "      </button>\n",
              "      \n",
              "  <style>\n",
              "    .colab-df-container {\n",
              "      display:flex;\n",
              "      flex-wrap:wrap;\n",
              "      gap: 12px;\n",
              "    }\n",
              "\n",
              "    .colab-df-convert {\n",
              "      background-color: #E8F0FE;\n",
              "      border: none;\n",
              "      border-radius: 50%;\n",
              "      cursor: pointer;\n",
              "      display: none;\n",
              "      fill: #1967D2;\n",
              "      height: 32px;\n",
              "      padding: 0 0 0 0;\n",
              "      width: 32px;\n",
              "    }\n",
              "\n",
              "    .colab-df-convert:hover {\n",
              "      background-color: #E2EBFA;\n",
              "      box-shadow: 0px 1px 2px rgba(60, 64, 67, 0.3), 0px 1px 3px 1px rgba(60, 64, 67, 0.15);\n",
              "      fill: #174EA6;\n",
              "    }\n",
              "\n",
              "    [theme=dark] .colab-df-convert {\n",
              "      background-color: #3B4455;\n",
              "      fill: #D2E3FC;\n",
              "    }\n",
              "\n",
              "    [theme=dark] .colab-df-convert:hover {\n",
              "      background-color: #434B5C;\n",
              "      box-shadow: 0px 1px 3px 1px rgba(0, 0, 0, 0.15);\n",
              "      filter: drop-shadow(0px 1px 2px rgba(0, 0, 0, 0.3));\n",
              "      fill: #FFFFFF;\n",
              "    }\n",
              "  </style>\n",
              "\n",
              "      <script>\n",
              "        const buttonEl =\n",
              "          document.querySelector('#df-cd2b34f6-973c-4d8b-9cae-812d5393dcc4 button.colab-df-convert');\n",
              "        buttonEl.style.display =\n",
              "          google.colab.kernel.accessAllowed ? 'block' : 'none';\n",
              "\n",
              "        async function convertToInteractive(key) {\n",
              "          const element = document.querySelector('#df-cd2b34f6-973c-4d8b-9cae-812d5393dcc4');\n",
              "          const dataTable =\n",
              "            await google.colab.kernel.invokeFunction('convertToInteractive',\n",
              "                                                     [key], {});\n",
              "          if (!dataTable) return;\n",
              "\n",
              "          const docLinkHtml = 'Like what you see? Visit the ' +\n",
              "            '<a target=\"_blank\" href=https://colab.research.google.com/notebooks/data_table.ipynb>data table notebook</a>'\n",
              "            + ' to learn more about interactive tables.';\n",
              "          element.innerHTML = '';\n",
              "          dataTable['output_type'] = 'display_data';\n",
              "          await google.colab.output.renderOutput(dataTable, element);\n",
              "          const docLink = document.createElement('div');\n",
              "          docLink.innerHTML = docLinkHtml;\n",
              "          element.appendChild(docLink);\n",
              "        }\n",
              "      </script>\n",
              "    </div>\n",
              "  </div>\n",
              "  "
            ]
          },
          "metadata": {},
          "execution_count": 13
        }
      ],
      "source": [
        "\n",
        "Dataframe.loc[Dataframe['CustomerID']=='C7331455',:]\n",
        "#Dataframe[['CustomerID','TransactionDate']].groupby(['CustomerID'],as_index=False).count().sort_values(['TransactionDate'])"
      ]
    },
    {
      "cell_type": "code",
      "execution_count": null,
      "metadata": {
        "id": "m6S1Jd3q6gXk"
      },
      "outputs": [],
      "source": [
        "# Tratamiento de fechas\n",
        "\n",
        "# Cambiar fecha de object a datetime para luego poder ordenar\n",
        "Dataframe['Transaction_Date_DT']=pd.to_datetime(Dataframe['TransactionDate'])\n",
        "\n",
        "\n",
        "Dataframe['Year'] = pd.DatetimeIndex(Dataframe['Transaction_Date_DT']).year\n",
        "Dataframe['Month'] = pd.DatetimeIndex(Dataframe['Transaction_Date_DT']).month\n",
        "Dataframe['Day'] = pd.DatetimeIndex(Dataframe['Transaction_Date_DT']).day\n",
        "\n",
        "# Se pudo ver que hay un dato del 1970, se saca ya que sale de la lógica de los datos. Se van a utilizar solo los datos del 2016\n",
        "Dataframe = Dataframe.loc[Dataframe['Year']>=2016,:]\n",
        "\n",
        "# Se eliminan los valores nulos\n",
        "Dataframe = Dataframe.dropna()\n",
        "\n",
        "# Se convierten las columnas en enteros\n",
        "Dataframe['Year'] = Dataframe['Year'].astype(int)\n",
        "Dataframe['Month'] = Dataframe['Month'].astype(int)\n",
        "\n",
        "# Se crea una columna que tiene año y mes\n",
        "Dataframe['YM'] = Dataframe.apply(lambda x: ''.join((str(x['Year']),str(x['Month']))),axis=1)\n",
        "Dataframe['YM'] = Dataframe['YM'].astype(int)\n",
        "\n",
        "# Se seleccionan solo las variables que se van a utilizar para el modelo\n",
        "df_model = Dataframe[['YM','TransactionAmount (INR)']]\n"
      ]
    },
    {
      "cell_type": "code",
      "execution_count": null,
      "metadata": {
        "id": "FjA99gDt6gXl",
        "outputId": "5baba062-5b20-4db0-e50b-48d3b44cb168",
        "colab": {
          "base_uri": "https://localhost:8080/",
          "height": 293
        }
      },
      "outputs": [
        {
          "output_type": "execute_result",
          "data": {
            "text/plain": [
              "[<matplotlib.lines.Line2D at 0x7ff3a2c89d90>]"
            ]
          },
          "metadata": {},
          "execution_count": 15
        },
        {
          "output_type": "display_data",
          "data": {
            "text/plain": [
              "<Figure size 432x288 with 1 Axes>"
            ],
            "image/png": "[encoded data removed]"
          },
          "metadata": {
            "needs_background": "light"
          }
        }
      ],
      "source": [
        "# Se les cambia el nombre para que queden mas cortos\n",
        "df_model.columns = ['YM','Amount']\n",
        "\n",
        "# Se agrupan los datos por mes\n",
        "df_model_gp = df_model.groupby(['YM'],as_index=False).sum()\n",
        "# Se ordenen por año y mes\n",
        "df_model_gp.sort_values('YM', ascending=True)\n",
        "# Se crea una columna periodo que va del 1 a n\n",
        "df_model_gp['Periodo'] = range(1,len(df_model_gp)+1)\n",
        "# Se selecciona solo el periodo y el monto\n",
        "df_final = df_model_gp[['Periodo','Amount']]\n",
        "# Se muestra la gráfica\n",
        "plt.plot(df_model_gp['Periodo'], df_model_gp['Amount'])"
      ]
    },
    {
      "cell_type": "code",
      "execution_count": null,
      "metadata": {
        "id": "7VC9C0ZO6gXm"
      },
      "outputs": [],
      "source": [
        "x = df_final[['Periodo']] # independientes\n",
        "y = df_final[['Amount']] #dependiente\n",
        "#Entre el mes 8 y 10 vemos que se da las transacciones con mayor mopnto economico, mintras que entre los meses 10 y 11 se da las transacciones dse menor monto.\n"
      ]
    },
    {
      "cell_type": "code",
      "execution_count": null,
      "metadata": {
        "id": "N4-lafTq6gXm",
        "outputId": "3e1997c7-df1a-43a4-b8fd-d616d41e52fa",
        "colab": {
          "base_uri": "https://localhost:8080/",
          "height": 421
        }
      },
      "outputs": [
        {
          "output_type": "execute_result",
          "data": {
            "text/plain": [
              "    Periodo\n",
              "0         1\n",
              "1         2\n",
              "2         3\n",
              "3         4\n",
              "4         5\n",
              "5         6\n",
              "6         7\n",
              "7         8\n",
              "8         9\n",
              "9        10\n",
              "10       11\n",
              "11       12"
            ],
            "text/html": [
              "\n",
              "  <div id=\"df-6f6d387f-f68c-4320-941e-bd952f775535\">\n",
              "    <div class=\"colab-df-container\">\n",
              "      <div>\n",
              "<style scoped>\n",
              "    .dataframe tbody tr th:only-of-type {\n",
              "        vertical-align: middle;\n",
              "    }\n",
              "\n",
              "    .dataframe tbody tr th {\n",
              "        vertical-align: top;\n",
              "    }\n",
              "\n",
              "    .dataframe thead th {\n",
              "        text-align: right;\n",
              "    }\n",
              "</style>\n",
              "<table border=\"1\" class=\"dataframe\">\n",
              "  <thead>\n",
              "    <tr style=\"text-align: right;\">\n",
              "      <th></th>\n",
              "      <th>Periodo</th>\n",
              "    </tr>\n",
              "  </thead>\n",
              "  <tbody>\n",
              "    <tr>\n",
              "      <th>0</th>\n",
              "      <td>1</td>\n",
              "    </tr>\n",
              "    <tr>\n",
              "      <th>1</th>\n",
              "      <td>2</td>\n",
              "    </tr>\n",
              "    <tr>\n",
              "      <th>2</th>\n",
              "      <td>3</td>\n",
              "    </tr>\n",
              "    <tr>\n",
              "      <th>3</th>\n",
              "      <td>4</td>\n",
              "    </tr>\n",
              "    <tr>\n",
              "      <th>4</th>\n",
              "      <td>5</td>\n",
              "    </tr>\n",
              "    <tr>\n",
              "      <th>5</th>\n",
              "      <td>6</td>\n",
              "    </tr>\n",
              "    <tr>\n",
              "      <th>6</th>\n",
              "      <td>7</td>\n",
              "    </tr>\n",
              "    <tr>\n",
              "      <th>7</th>\n",
              "      <td>8</td>\n",
              "    </tr>\n",
              "    <tr>\n",
              "      <th>8</th>\n",
              "      <td>9</td>\n",
              "    </tr>\n",
              "    <tr>\n",
              "      <th>9</th>\n",
              "      <td>10</td>\n",
              "    </tr>\n",
              "    <tr>\n",
              "      <th>10</th>\n",
              "      <td>11</td>\n",
              "    </tr>\n",
              "    <tr>\n",
              "      <th>11</th>\n",
              "      <td>12</td>\n",
              "    </tr>\n",
              "  </tbody>\n",
              "</table>\n",
              "</div>\n",
              "      <button class=\"colab-df-convert\" onclick=\"convertToInteractive('df-6f6d387f-f68c-4320-941e-bd952f775535')\"\n",
              "              title=\"Convert this dataframe to an interactive table.\"\n",
              "              style=\"display:none;\">\n",
              "        \n",
              "  <svg xmlns=\"http://www.w3.org/2000/svg\" height=\"24px\"viewBox=\"0 0 24 24\"\n",
              "       width=\"24px\">\n",
              "    <path d=\"M0 0h24v24H0V0z\" fill=\"none\"/>\n",
              "    <path d=\"M18.56 5.44l.94 2.06.94-2.06 2.06-.94-2.06-.94-.94-2.06-.94 2.06-2.06.94zm-11 1L8.5 8.5l.94-2.06 2.06-.94-2.06-.94L8.5 2.5l-.94 2.06-2.06.94zm10 10l.94 2.06.94-2.06 2.06-.94-2.06-.94-.94-2.06-.94 2.06-2.06.94z\"/><path d=\"M17.41 7.96l-1.37-1.37c-.4-.4-.92-.59-1.43-.59-.52 0-1.04.2-1.43.59L10.3 9.45l-7.72 7.72c-.78.78-.78 2.05 0 2.83L4 21.41c.39.39.9.59 1.41.59.51 0 1.02-.2 1.41-.59l7.78-7.78 2.81-2.81c.8-.78.8-2.07 0-2.86zM5.41 20L4 18.59l7.72-7.72 1.47 1.35L5.41 20z\"/>\n",
              "  </svg>\n",
              "      </button>\n",
              "      \n",
              "  <style>\n",
              "    .colab-df-container {\n",
              "      display:flex;\n",
              "      flex-wrap:wrap;\n",
              "      gap: 12px;\n",
              "    }\n",
              "\n",
              "    .colab-df-convert {\n",
              "      background-color: #E8F0FE;\n",
              "      border: none;\n",
              "      border-radius: 50%;\n",
              "      cursor: pointer;\n",
              "      display: none;\n",
              "      fill: #1967D2;\n",
              "      height: 32px;\n",
              "      padding: 0 0 0 0;\n",
              "      width: 32px;\n",
              "    }\n",
              "\n",
              "    .colab-df-convert:hover {\n",
              "      background-color: #E2EBFA;\n",
              "      box-shadow: 0px 1px 2px rgba(60, 64, 67, 0.3), 0px 1px 3px 1px rgba(60, 64, 67, 0.15);\n",
              "      fill: #174EA6;\n",
              "    }\n",
              "\n",
              "    [theme=dark] .colab-df-convert {\n",
              "      background-color: #3B4455;\n",
              "      fill: #D2E3FC;\n",
              "    }\n",
              "\n",
              "    [theme=dark] .colab-df-convert:hover {\n",
              "      background-color: #434B5C;\n",
              "      box-shadow: 0px 1px 3px 1px rgba(0, 0, 0, 0.15);\n",
              "      filter: drop-shadow(0px 1px 2px rgba(0, 0, 0, 0.3));\n",
              "      fill: #FFFFFF;\n",
              "    }\n",
              "  </style>\n",
              "\n",
              "      <script>\n",
              "        const buttonEl =\n",
              "          document.querySelector('#df-6f6d387f-f68c-4320-941e-bd952f775535 button.colab-df-convert');\n",
              "        buttonEl.style.display =\n",
              "          google.colab.kernel.accessAllowed ? 'block' : 'none';\n",
              "\n",
              "        async function convertToInteractive(key) {\n",
              "          const element = document.querySelector('#df-6f6d387f-f68c-4320-941e-bd952f775535');\n",
              "          const dataTable =\n",
              "            await google.colab.kernel.invokeFunction('convertToInteractive',\n",
              "                                                     [key], {});\n",
              "          if (!dataTable) return;\n",
              "\n",
              "          const docLinkHtml = 'Like what you see? Visit the ' +\n",
              "            '<a target=\"_blank\" href=https://colab.research.google.com/notebooks/data_table.ipynb>data table notebook</a>'\n",
              "            + ' to learn more about interactive tables.';\n",
              "          element.innerHTML = '';\n",
              "          dataTable['output_type'] = 'display_data';\n",
              "          await google.colab.output.renderOutput(dataTable, element);\n",
              "          const docLink = document.createElement('div');\n",
              "          docLink.innerHTML = docLinkHtml;\n",
              "          element.appendChild(docLink);\n",
              "        }\n",
              "      </script>\n",
              "    </div>\n",
              "  </div>\n",
              "  "
            ]
          },
          "metadata": {},
          "execution_count": 17
        }
      ],
      "source": [
        "x"
      ]
    },
    {
      "cell_type": "code",
      "execution_count": null,
      "metadata": {
        "id": "WDFe_4dB6gXm",
        "outputId": "b0e0d38a-cac9-4d13-fcc1-463e17c85ed7",
        "colab": {
          "base_uri": "https://localhost:8080/"
        }
      },
      "outputs": [
        {
          "output_type": "stream",
          "name": "stdout",
          "text": [
            "Intersección (b) [40498218.73590909]\n",
            "Pendiente (m) [[-576932.06898601]]\n"
          ]
        }
      ],
      "source": [
        "from sklearn.linear_model import LinearRegression\n",
        "\n",
        "regresion = LinearRegression(fit_intercept = True)\n",
        "\n",
        "model = regresion.fit(x, y)\n",
        "\n",
        "print(\"Intersección (b)\", model.intercept_)\n",
        "print(\"Pendiente (m)\", model.coef_)\n"
      ]
    },
    {
      "cell_type": "code",
      "execution_count": null,
      "metadata": {
        "id": "lCn8zgp86gXn",
        "outputId": "257410cc-4910-4465-b675-ccaec18f99ed",
        "colab": {
          "base_uri": "https://localhost:8080/",
          "height": 307
        }
      },
      "outputs": [
        {
          "output_type": "display_data",
          "data": {
            "text/plain": [
              "<Figure size 432x288 with 1 Axes>"
            ],
            "image/png": "[encoded data removed]"
          },
          "metadata": {
            "needs_background": "light"
          }
        },
        {
          "output_type": "stream",
          "name": "stdout",
          "text": [
            "R^2 0.00797317873865866\n"
          ]
        }
      ],
      "source": [
        "y_1 = model.predict(x)\n",
        "\n",
        "plt.scatter(x.Periodo, y_1, color=\"red\")\n",
        "plt.plot(x.Periodo, y_1, color=\"black\")\n",
        "\n",
        "plt.ylabel(\"Sales\")\n",
        "plt.xlabel(\"Año\")\n",
        "plt.scatter(df_final[\"Periodo\"], df_final[\"Amount\"], color=\"blue\", alpha=0.55)\n",
        "plt.show()\n",
        "print('R^2', model.score(x, y))\n",
        "# Se puede ver que el R^2 es muy bajo"
      ]
    },
    {
      "cell_type": "markdown",
      "source": [
        "Por mas que hay una tendencia en 0.4, si miramos el r2 que sabemos que va de 0 a 1, vemos que es de 0.0079l, por lo tanto es muy pequeño y no podemos tomarlo como representativo. Vamos a seguir probando posibles modelos para utilizar el que tenga mayor R^2\n",
        "\n"
      ],
      "metadata": {
        "id": "07FH6IyDNbAT"
      }
    },
    {
      "cell_type": "markdown",
      "metadata": {
        "id": "B92Ayqbg6gXn"
      },
      "source": [
        "### Para mejorar el modelo y que se adapte mas a los datos, existe la posibilidad de cambiar la función aumentando los grados de la función, para que de esta forma no sea lineal. Esto se hace con la función 'PolynomialFeatures'"
      ]
    },
    {
      "cell_type": "code",
      "execution_count": null,
      "metadata": {
        "id": "SRyGyDuA6gXn",
        "outputId": "5c0593d5-86aa-45e2-e2b3-1c45554d9dab",
        "colab": {
          "base_uri": "https://localhost:8080/",
          "height": 327
        }
      },
      "outputs": [
        {
          "output_type": "stream",
          "name": "stdout",
          "text": [
            "w_1 9027595.052280225\n",
            "w_2 -738809.7785589417\n",
            "R^2 0.13000811717268712\n"
          ]
        },
        {
          "output_type": "display_data",
          "data": {
            "text/plain": [
              "<Figure size 432x288 with 1 Axes>"
            ],
            "image/png": "[encoded data removed]"
          },
          "metadata": {
            "needs_background": "light"
          }
        }
      ],
      "source": [
        "from sklearn.preprocessing import PolynomialFeatures\n",
        "\n",
        "poly_2  = PolynomialFeatures(degree = 2, include_bias = False)\n",
        "x_2     = poly_2.fit_transform(x)\n",
        "\n",
        "model_2 = LinearRegression(fit_intercept = True)\n",
        "model_2.fit(x_2, y)\n",
        "\n",
        "# Obtención de los parametros de ajuste\n",
        "print('w_1', model_2.coef_[0][0])\n",
        "print('w_2', model_2.coef_[0][1])\n",
        "print('R^2', model_2.score(x_2, y))\n",
        "\n",
        "y_2 = model_2.predict(poly_2.fit_transform(x))\n",
        "\n",
        "plt.plot(x.Periodo, y.Amount, 'r.', label = 'Datos')\n",
        "plt.plot(x.Periodo, y_2, label = 'Modelo 2')\n",
        "plt.legend(loc = 2)\n",
        "plt.show()"
      ]
    },
    {
      "cell_type": "markdown",
      "source": [
        "Este modelo vemos que muestra que en el mes 4 empieza a subir y luego decrece al llegar al 8, siendo el mes 6 el mes con transacciones mas alto. \n",
        "De todas maneras, el r2 si bien es mayor al anterior, sigue siendo pequeño."
      ],
      "metadata": {
        "id": "oBebB96DOP-e"
      }
    },
    {
      "cell_type": "code",
      "execution_count": null,
      "metadata": {
        "id": "7ZeGzwck6gXo",
        "outputId": "f4b33b5c-ac24-4d27-9cc8-0c7f2626dc0e",
        "colab": {
          "base_uri": "https://localhost:8080/",
          "height": 378
        }
      },
      "outputs": [
        {
          "output_type": "stream",
          "name": "stdout",
          "text": [
            "w_1 144132428.75864118\n",
            "w_2 -67796120.98042837\n",
            "w_3 13628792.744878769\n",
            "w_4 -1200973.7927817889\n",
            "w_5 38098.644909873605\n",
            "R^2 0.3286668249424981\n"
          ]
        },
        {
          "output_type": "display_data",
          "data": {
            "text/plain": [
              "<Figure size 432x288 with 1 Axes>"
            ],
            "image/png": "[encoded data removed]"
          },
          "metadata": {
            "needs_background": "light"
          }
        }
      ],
      "source": [
        "# Polinomio de grado 5\n",
        "poly_5  = PolynomialFeatures(degree = 5, include_bias= False)\n",
        "x_5     = poly_5.fit_transform(x)\n",
        "model_5 = LinearRegression(fit_intercept = True)\n",
        "model_5.fit(x_5, y)\n",
        "\n",
        "\n",
        "# Obtención de los parametros de ajuste\n",
        "print('w_1', model_5.coef_[0][0])\n",
        "print('w_2', model_5.coef_[0][1])\n",
        "print('w_3', model_5.coef_[0][2])\n",
        "print('w_4', model_5.coef_[0][3])\n",
        "print('w_5', model_5.coef_[0][4])\n",
        "print('R^2', model_5.score(x_5, y))\n",
        "\n",
        "y_5 = model_5.predict(poly_5.fit_transform(x))\n",
        "\n",
        "plt.plot(x.Periodo, y.Amount, 'r.', label = 'Datos')\n",
        "plt.plot(x.Periodo, y_5, label = 'Modelo 5')\n",
        "plt.legend(loc = 2)\n",
        "plt.show()"
      ]
    },
    {
      "cell_type": "markdown",
      "source": [
        "Este modelo tiene un r2 de 0.32. El R^2 aumenta con fespecto al modelo anterior, pero sigue siendo muy bajo entonces no es un modelo muy confiable. Muestra las fluctuaciones que hay durante el año. Observamos que hay un valor que podría estaar distorcionando el modelo."
      ],
      "metadata": {
        "id": "iOFYAZyGOg7Y"
      }
    },
    {
      "cell_type": "code",
      "execution_count": null,
      "metadata": {
        "id": "UvZIQ3u_6gXo",
        "outputId": "4d7920dd-f6ee-45a6-e8ca-34fe9789ab3f",
        "colab": {
          "base_uri": "https://localhost:8080/",
          "height": 378
        }
      },
      "outputs": [
        {
          "output_type": "stream",
          "name": "stdout",
          "text": [
            "w_1 21092586182.08959\n",
            "w_2 -24312286564.27532\n",
            "w_3 15191433452.811218\n",
            "w_4 -5765482940.926164\n",
            "w_5 1401777396.0664878\n",
            "R^2 0.9640879180287991\n"
          ]
        },
        {
          "output_type": "display_data",
          "data": {
            "text/plain": [
              "<Figure size 432x288 with 1 Axes>"
            ],
            "image/png": "[encoded data removed]"
          },
          "metadata": {
            "needs_background": "light"
          }
        }
      ],
      "source": [
        "# Polinomio de grado 5\n",
        "poly_5  = PolynomialFeatures(degree = 10, include_bias= False)\n",
        "x_5     = poly_5.fit_transform(x)\n",
        "model_5 = LinearRegression(fit_intercept = True)\n",
        "model_5.fit(x_5, y)\n",
        "\n",
        "\n",
        "# Obtención de los parametros de ajuste\n",
        "print('w_1', model_5.coef_[0][0])\n",
        "print('w_2', model_5.coef_[0][1])\n",
        "print('w_3', model_5.coef_[0][2])\n",
        "print('w_4', model_5.coef_[0][3])\n",
        "print('w_5', model_5.coef_[0][4])\n",
        "print('R^2', model_5.score(x_5, y))\n",
        "\n",
        "y_5 = model_5.predict(poly_5.fit_transform(x))\n",
        "\n",
        "plt.plot(x.Periodo, y.Amount, 'r.', label = 'Datos')\n",
        "plt.plot(x.Periodo, y_5, label = 'Modelo 5')\n",
        "plt.legend(loc = 2)\n",
        "plt.show()\n",
        "\n",
        "#vemos que es el modelo más confiable por el R^2"
      ]
    },
    {
      "cell_type": "code",
      "execution_count": null,
      "metadata": {
        "id": "giJVU7Cn6gXp",
        "outputId": "c61704a1-d3e1-4ef2-e0b7-1fb23b96ae6f",
        "colab": {
          "base_uri": "https://localhost:8080/",
          "height": 293
        }
      },
      "outputs": [
        {
          "output_type": "execute_result",
          "data": {
            "text/plain": [
              "<matplotlib.legend.Legend at 0x7ff3a36caf10>"
            ]
          },
          "metadata": {},
          "execution_count": 23
        },
        {
          "output_type": "display_data",
          "data": {
            "text/plain": [
              "<Figure size 432x288 with 1 Axes>"
            ],
            "image/png": "[encoded data removed]"
          },
          "metadata": {
            "needs_background": "light"
          }
        }
      ],
      "source": [
        "#grafico de todos los posibles modelos\n",
        "plt.plot(x.Periodo, y.Amount, 'r.', label = 'Datos')\n",
        "plt.plot(x.Periodo, y_1, label = 'Modelo 1')\n",
        "plt.plot(x.Periodo, y_2, label = 'Modelo 2')\n",
        "plt.plot(x.Periodo, y_5, label = 'Modelo 5')\n",
        "plt.legend(loc = 2)"
      ]
    },
    {
      "cell_type": "code",
      "execution_count": null,
      "metadata": {
        "id": "6q6MKmhY6gXp",
        "outputId": "27577c94-9674-4ec8-c634-1ba901937358",
        "colab": {
          "base_uri": "https://localhost:8080/",
          "height": 293
        }
      },
      "outputs": [
        {
          "output_type": "execute_result",
          "data": {
            "text/plain": [
              "array([34193402.25820351])"
            ]
          },
          "metadata": {},
          "execution_count": 24
        },
        {
          "output_type": "display_data",
          "data": {
            "text/plain": [
              "<Figure size 432x288 with 1 Axes>"
            ],
            "image/png": "[encoded data removed]"
          },
          "metadata": {
            "needs_background": "light"
          }
        }
      ],
      "source": [
        "# Se va a utilizar el modelo que tuvo mayor R^2 \n",
        "# Pruebo predecir las ventas para el inicio del año siguiente, que sería el periodo 13 (12+1)\n",
        "x_p = [[i] for i in range(1, 13)]\n",
        "\n",
        "y_pred_5 = model_5.predict(poly_5.fit_transform(x_p))\n",
        "plt.plot(x_p, y_pred_5, label = 'Predicción')\n",
        "\n",
        "y_pred_5[-1]"
      ]
    },
    {
      "cell_type": "code",
      "execution_count": null,
      "metadata": {
        "id": "m0fD7KAl6gXp",
        "outputId": "bf36cf0e-f5e9-4e82-a46e-efca44f92d65",
        "colab": {
          "base_uri": "https://localhost:8080/",
          "height": 293
        }
      },
      "outputs": [
        {
          "output_type": "execute_result",
          "data": {
            "text/plain": [
              "array([-2.37270451e+13])"
            ]
          },
          "metadata": {},
          "execution_count": 25
        },
        {
          "output_type": "display_data",
          "data": {
            "text/plain": [
              "<Figure size 432x288 with 1 Axes>"
            ],
            "image/png": "[encoded data removed]"
          },
          "metadata": {
            "needs_background": "light"
          }
        }
      ],
      "source": [
        "# Pruebo predecir las ventas para el inicio del año siguiente, que sería el periodo 18 (12+6)\n",
        "x_p = [[i] for i in range(1, 19)]\n",
        "\n",
        "y_pred_5 = model_5.predict(poly_5.fit_transform(x_p))\n",
        "plt.plot(x_p, y_pred_5, label = 'Predicción')\n",
        "\n",
        "y_pred_5[-1]"
      ]
    },
    {
      "cell_type": "markdown",
      "metadata": {
        "id": "bZT7DGdK6gXp"
      },
      "source": [
        "# El Modelo sirve como modelo predictivo a corto plazo, ya que tenemos solo datos de un año por lo que es imposible que el modelo pueda predecir las ventas y los montos para dentro de cinco años. "
      ]
    }
  ],
  "metadata": {
    "colab": {
      "provenance": [],
      "include_colab_link": true
    },
    "kernelspec": {
      "display_name": "Python 3.9.12 ('base')",
      "language": "python",
      "name": "python3"
    },
    "language_info": {
      "codemirror_mode": {
        "name": "ipython",
        "version": 3
      },
      "file_extension": ".py",
      "mimetype": "text/x-python",
      "name": "python",
      "nbconvert_exporter": "python",
      "pygments_lexer": "ipython3",
      "version": "3.9.12"
    },
    "vscode": {
      "interpreter": {
        "hash": "d67840052ab2047a02ee6134287b18cd9a63b77b10fca4bfd50fb02e60b6a813"
      }
    }
  },
  "nbformat": 4,
  "nbformat_minor": 0
}